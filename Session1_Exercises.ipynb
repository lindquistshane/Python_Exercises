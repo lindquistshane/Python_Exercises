{
 "cells": [
  {
   "cell_type": "markdown",
   "id": "1109492e-0d46-4c08-8580-879d5c4debc5",
   "metadata": {},
   "source": [
    "Exercise-1\n",
    "----------"
   ]
  },
  {
   "cell_type": "markdown",
   "id": "59eaf628-e524-4508-824e-94ab0577c9a2",
   "metadata": {},
   "source": [
    "* Shane Lindquist \n",
    "* <span style=\"background-color: red\">sjl241@scarletmail.rutgers.edu</span>"
   ]
  },
  {
   "cell_type": "code",
   "execution_count": 6,
   "id": "1600d738-4988-4577-926e-3b5021fcdc05",
   "metadata": {},
   "outputs": [
    {
     "name": "stdout",
     "output_type": "stream",
     "text": [
      "Hello, Python! Here we come!\n"
     ]
    }
   ],
   "source": [
    "print('Hello, Python! Here we come!')"
   ]
  },
  {
   "cell_type": "markdown",
   "id": "5092fd8e-9c2a-400a-8438-df74088fda9e",
   "metadata": {},
   "source": [
    "Exercise-2\n",
    "----------"
   ]
  },
  {
   "cell_type": "markdown",
   "id": "85a85669-798a-412c-8ff5-8801420636a5",
   "metadata": {},
   "source": [
    "### Create a python program to accomplish the following:\n",
    "* Get three numbers from the user as input to the program\n",
    "* Find the average of the three numbers\n",
    "* Display the average of the three numbers to the user"
   ]
  },
  {
   "cell_type": "code",
   "execution_count": 24,
   "id": "fecae44f-0971-4646-a35d-f36e581d9cab",
   "metadata": {},
   "outputs": [
    {
     "name": "stdin",
     "output_type": "stream",
     "text": [
      "Please, enter a number: 1.6\n"
     ]
    },
    {
     "name": "stdout",
     "output_type": "stream",
     "text": [
      "You've entered: ['1.6']\n"
     ]
    },
    {
     "name": "stdin",
     "output_type": "stream",
     "text": [
      "Please, enter a number: 7.34352\n"
     ]
    },
    {
     "name": "stdout",
     "output_type": "stream",
     "text": [
      "You've entered: ['1.6', '7.34352']\n"
     ]
    },
    {
     "name": "stdin",
     "output_type": "stream",
     "text": [
      "Please, enter a number: .00001\n"
     ]
    },
    {
     "name": "stdout",
     "output_type": "stream",
     "text": [
      "You've entered: ['1.6', '7.34352', '.00001']\n"
     ]
    }
   ],
   "source": [
    "#get three numbers from the user\n",
    "input_numbers = []\n",
    "input_max = 3\n",
    "\n",
    "def is_number(user_input):\n",
    "    try:\n",
    "        float(user_input)\n",
    "        return True\n",
    "    except ValueError:\n",
    "        return False\n",
    "\n",
    "for i in range(input_max):\n",
    "    user_input= input('Please, enter a number:')\n",
    "    if is_number(user_input):\n",
    "        input_numbers.append(user_input)\n",
    "        print(\"You've entered:\", input_numbers)\n",
    "        \n",
    "    else:\n",
    "        print(\"Invalid Input! Please enter a valid number!\")\n",
    "        break"
   ]
  },
  {
   "cell_type": "code",
   "execution_count": 41,
   "id": "63455be5-2529-44b5-8d3b-7e0ccf86ca27",
   "metadata": {},
   "outputs": [
    {
     "name": "stdout",
     "output_type": "stream",
     "text": [
      "2.98\n"
     ]
    }
   ],
   "source": [
    "#Find average of user input\n",
    "def List_avg(input_numbers):\n",
    "    if not input_numbers:\n",
    "        return \"List empty\"\n",
    "    else:\n",
    "        fixed_numbers = [float(num) for num in input_numbers]\n",
    "        total = sum(fixed_numbers)\n",
    "        average = total / len(fixed_numbers)\n",
    "        return round(average, 2)\n",
    "\n",
    "#display average of user input\n",
    "print(List_avg(input_numbers))\n"
   ]
  },
  {
   "cell_type": "markdown",
   "id": "09c9748b-f940-45dc-a809-c479c82764ea",
   "metadata": {},
   "source": [
    "Exercise-3\n",
    "----------"
   ]
  },
  {
   "cell_type": "markdown",
   "id": "f4114138-e841-4447-a536-5283d4f7fc17",
   "metadata": {},
   "source": [
    "### Create Python code to accomplish the following:\n",
    "* Get three numbers from the user as input to the program\n",
    "* Check if the user has entered duplicate numbers\n",
    "* If the user has entered duplicates, alert the user and take input again and replace the duplicate(s)\n",
    "* Once you have three distinct numbers, find the average of the three numbers and display the average of the three numbers to the user"
   ]
  },
  {
   "cell_type": "code",
   "execution_count": 53,
   "id": "abdff4cd-c5a0-4d9d-88b0-89549c07e39d",
   "metadata": {},
   "outputs": [
    {
     "name": "stdin",
     "output_type": "stream",
     "text": [
      "Please, enter a number: 5\n"
     ]
    },
    {
     "name": "stdout",
     "output_type": "stream",
     "text": [
      "You've entered: ['5']\n"
     ]
    },
    {
     "name": "stdin",
     "output_type": "stream",
     "text": [
      "Please, enter a number: 5\n"
     ]
    },
    {
     "name": "stdout",
     "output_type": "stream",
     "text": [
      "You've already entered that number, please try again.\n"
     ]
    },
    {
     "name": "stdin",
     "output_type": "stream",
     "text": [
      "Please, enter a number: 6\n"
     ]
    },
    {
     "name": "stdout",
     "output_type": "stream",
     "text": [
      "You've entered: ['5', '6']\n"
     ]
    },
    {
     "name": "stdin",
     "output_type": "stream",
     "text": [
      "Please, enter a number: 6\n"
     ]
    },
    {
     "name": "stdout",
     "output_type": "stream",
     "text": [
      "You've already entered that number, please try again.\n"
     ]
    },
    {
     "name": "stdin",
     "output_type": "stream",
     "text": [
      "Please, enter a number: 7\n"
     ]
    },
    {
     "name": "stdout",
     "output_type": "stream",
     "text": [
      "You've entered: ['5', '6', '7']\n"
     ]
    }
   ],
   "source": [
    "#get three numbers from a user while checking for duplicates\n",
    "input_numbers2 = []\n",
    "\n",
    "while len(input_numbers2) < input_max:\n",
    "    user_input= input('Please, enter a number:')\n",
    "    if is_number(user_input):\n",
    "        if user_input in input_numbers2:\n",
    "            print(\"You've already entered that number, please try again.\")\n",
    "        else:\n",
    "            input_numbers2.append(user_input)\n",
    "            print(\"You've entered:\", input_numbers2)\n",
    "    else:\n",
    "        print(\"Invalid Input! Please enter a valid number!\")\n"
   ]
  },
  {
   "cell_type": "code",
   "execution_count": 51,
   "id": "3f032db8-cf1e-4fb1-9bcc-7810f7027358",
   "metadata": {},
   "outputs": [
    {
     "name": "stdout",
     "output_type": "stream",
     "text": [
      "5.33\n"
     ]
    }
   ],
   "source": [
    "#Find average of user input\n",
    "def List_avg(input_numbers2):\n",
    "    if not input_numbers2:\n",
    "        return \"List empty\"\n",
    "    else:\n",
    "        fixed_numbers = [float(num) for num in input_numbers2]\n",
    "        total = sum(fixed_numbers)\n",
    "        average = total / len(fixed_numbers)\n",
    "        return round(average, 2)\n",
    "\n",
    "#display average of user input\n",
    "print(List_avg(input_numbers2))"
   ]
  },
  {
   "cell_type": "markdown",
   "id": "3a73e99e-1560-4fec-a2fa-15c32dac7376",
   "metadata": {},
   "source": [
    "Exercise-4\n",
    "----------\n",
    "### Create a python program to accomplish the following:\n",
    "* Write three functions:\n",
    "   + First: to get three numbers from the user as input to the program\n",
    "   + Second: to check if the user has entered duplicate numbers, alert the user, and replace duplicate(s) with distinct numbers\n",
    "   + Third: find the average of the three numbers and display the average of the three numbers to the user\n",
    "* Using the above three functions, create a Python program to receive three unique numbers from a user, calculate the average, and display the calculated average to the user."
   ]
  },
  {
   "cell_type": "code",
   "execution_count": 105,
   "id": "b62c3540-7442-4eca-a549-f4b07de7e650",
   "metadata": {},
   "outputs": [],
   "source": [
    "#Function 1 - get three unique numbers from user\n",
    "def get_num():\n",
    "    input_numbers3 = []\n",
    "    while len(input_numbers3) < input_max:\n",
    "        user_input= input('Please, enter a number:')\n",
    "        if is_number(user_input):\n",
    "            input_numbers3.append(user_input)\n",
    "            print(\"You've entered:\", input_numbers3)\n",
    "        else:\n",
    "            print(\"Invalid Input! Please enter a valid number!\")\n",
    "    return(input_numbers3)\n",
    "\n",
    "#Function 2 - Check for and replace any duplicates\n",
    "def check_num(input_numbers3):\n",
    "    seen = []\n",
    "    for i in range(len(input_numbers3)):\n",
    "        num = input_numbers3[i]\n",
    "        if num in seen:\n",
    "            print(f\"Duplicate found, {num}\")\n",
    "            while True:\n",
    "                replacement_number = input(f\"Please enter a replacement for {num}: \")\n",
    "                if is_number(replacement_number):\n",
    "                    if replacement_number in input_numbers3:\n",
    "                        print(f\"You've already entered {replacement_number}, please try again.\")\n",
    "                    else:\n",
    "                        input_numbers3[i] = replacement_number\n",
    "                        print(\"You've entered: \", input_numbers3)\n",
    "                        break\n",
    "                else:\n",
    "                    print(\"Invalid Input! Please enter a valid number!\")\n",
    "        else:\n",
    "            seen.append(num)\n",
    "            print(\"No duplicates found!\")\n",
    "\n",
    "    return(input_numbers3)\n",
    "\n",
    "#Function 3 - Find average of list items and display to user\n",
    "def List_avg(input_numbers3):\n",
    "    if not input_numbers3:\n",
    "        return \"List empty\"\n",
    "    else:\n",
    "        fixed_numbers = [float(num) for num in input_numbers3]\n",
    "        total = sum(fixed_numbers)\n",
    "        average = total / len(fixed_numbers)\n",
    "        return round(average, 2)\n",
    "\n",
    "print(List_avg(input_numbers2))"
   ]
  },
  {
   "cell_type": "code",
   "execution_count": 109,
   "id": "0c85b584-512f-43de-845d-5e08738bfbc6",
   "metadata": {},
   "outputs": [
    {
     "name": "stdin",
     "output_type": "stream",
     "text": [
      "Please, enter a number: 5\n"
     ]
    },
    {
     "name": "stdout",
     "output_type": "stream",
     "text": [
      "You've entered: ['5']\n"
     ]
    },
    {
     "name": "stdin",
     "output_type": "stream",
     "text": [
      "Please, enter a number: 5\n"
     ]
    },
    {
     "name": "stdout",
     "output_type": "stream",
     "text": [
      "You've entered: ['5', '5']\n"
     ]
    },
    {
     "name": "stdin",
     "output_type": "stream",
     "text": [
      "Please, enter a number: 6\n"
     ]
    },
    {
     "name": "stdout",
     "output_type": "stream",
     "text": [
      "You've entered: ['5', '5', '6']\n",
      "No duplicates found!\n",
      "Duplicate found, 5\n"
     ]
    },
    {
     "name": "stdin",
     "output_type": "stream",
     "text": [
      "Please enter a replacement for 5:  7\n"
     ]
    },
    {
     "name": "stdout",
     "output_type": "stream",
     "text": [
      "You've entered:  ['5', '7', '6']\n",
      "No duplicates found!\n"
     ]
    },
    {
     "data": {
      "text/plain": [
       "6.0"
      ]
     },
     "execution_count": 109,
     "metadata": {},
     "output_type": "execute_result"
    }
   ],
   "source": [
    "input_numbers3 = get_num()\n",
    "check_num(input_numbers3)\n",
    "List_avg(input_numbers3)"
   ]
  }
 ],
 "metadata": {
  "kernelspec": {
   "display_name": "Python [conda env:base] *",
   "language": "python",
   "name": "conda-base-py"
  },
  "language_info": {
   "codemirror_mode": {
    "name": "ipython",
    "version": 3
   },
   "file_extension": ".py",
   "mimetype": "text/x-python",
   "name": "python",
   "nbconvert_exporter": "python",
   "pygments_lexer": "ipython3",
   "version": "3.12.7"
  }
 },
 "nbformat": 4,
 "nbformat_minor": 5
}
