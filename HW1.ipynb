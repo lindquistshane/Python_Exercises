{
 "cells": [
  {
   "cell_type": "markdown",
   "id": "300e8804-bcd0-476f-90bc-3a26ea1665c8",
   "metadata": {},
   "source": [
    "Big Data Analytics HW1\n",
    "======================\n",
    "##### Submission by: Shane Lindquist\n",
    "\n",
    "We will be examining the dataset from ml1mdata2000.csv which describes movie ratings and user activities from MovieLens, a movie reccomendation service.\n",
    "The data contains over 1mil observations with the below attributes:\n",
    "\n",
    "* User ID\n",
    "* Gender\n",
    "* Age\n",
    "* Occupation\n",
    "* Zip Code\n",
    "* Movie ID\n",
    "* Title\n",
    "* Genre\n",
    "* Rating\n",
    "* Timestamp\n",
    "\n",
    "##### Using this data, we will answer/complete the following tasks:\n",
    "\n",
    "1. What unique years are featured in this dataset?\n",
    "2. how many records are present for each year?\n",
    "3. Insert a new column called \"rating_category\" into the dataframe. The column will have the same value \"unknown\" for each row\n",
    "4. Display the first five rows of the dataframe\n",
    "5. Assume that we would like to examine how movie ratings change from first observation (row 1) to tenth observation (row 10). Draw a line plot for the movie ratings using the first ten rows. Do you observe any pattern in the data?\n",
    "6. Assume that we would like to examine how movie ratings change across different age groups for the first one hundred observation. Considering only the first one hundred rows, draw a scatter plot where the x axis is rating, and y axis is age. Do you observe any pattern in the data?"
   ]
  },
  {
   "cell_type": "markdown",
   "id": "05821eaa-77c7-45ef-884d-65548f4f446c",
   "metadata": {},
   "source": [
    "### Prepping the data"
   ]
  },
  {
   "cell_type": "code",
   "execution_count": 1,
   "id": "4dcc560c-c630-4be1-ba0f-7b9290090c5a",
   "metadata": {},
   "outputs": [
    {
     "name": "stdout",
     "output_type": "stream",
     "text": [
      "<class 'pandas.core.frame.DataFrame'>\n",
      "RangeIndex: 1000209 entries, 0 to 1000208\n",
      "Data columns (total 10 columns):\n",
      " #   Column      Non-Null Count    Dtype  \n",
      "---  ------      --------------    -----  \n",
      " 0   user_id     1000196 non-null  float64\n",
      " 1   movie_id    1000129 non-null  float64\n",
      " 2   rating      1000209 non-null  int64  \n",
      " 3   timestamp   1000209 non-null  int64  \n",
      " 4   gender      1000209 non-null  object \n",
      " 5   age         1000143 non-null  float64\n",
      " 6   occupation  1000154 non-null  float64\n",
      " 7   zip         1000136 non-null  object \n",
      " 8   title       1000036 non-null  object \n",
      " 9   genres      1000116 non-null  object \n",
      "dtypes: float64(4), int64(2), object(4)\n",
      "memory usage: 76.3+ MB\n"
     ]
    }
   ],
   "source": [
    "import pandas as pd\n",
    "mlmdata = pd.read_csv(\"C:/Users/lindq/OneDrive/Desktop/MSBA degree/Big Data Analysis/ml1mdata2000.csv\")\n",
    "mlmdata.info()"
   ]
  },
  {
   "cell_type": "markdown",
   "id": "b1e48131-e09f-414a-a270-dc13e6b12edd",
   "metadata": {},
   "source": [
    "##### After loading the dataset into a pandas DataFrame, we can take a quick look at the composition of the data. There are 10 columns and a little over 1 million observations. There appear to be some null values, but for the purposes of this exercise it's not necessary to fill them. We can see the timestamp is not recognized as a datetime, so we will need to make the following adjustment:"
   ]
  },
  {
   "cell_type": "code",
   "execution_count": 2,
   "id": "8065e98c-3514-4435-9f82-33509d446409",
   "metadata": {},
   "outputs": [
    {
     "name": "stdout",
     "output_type": "stream",
     "text": [
      "<class 'pandas.core.frame.DataFrame'>\n",
      "RangeIndex: 1000209 entries, 0 to 1000208\n",
      "Data columns (total 13 columns):\n",
      " #   Column      Non-Null Count    Dtype         \n",
      "---  ------      --------------    -----         \n",
      " 0   user_id     1000196 non-null  float64       \n",
      " 1   movie_id    1000129 non-null  float64       \n",
      " 2   rating      1000209 non-null  int64         \n",
      " 3   timestamp   1000209 non-null  int64         \n",
      " 4   gender      1000209 non-null  object        \n",
      " 5   age         1000143 non-null  float64       \n",
      " 6   occupation  1000154 non-null  float64       \n",
      " 7   zip         1000136 non-null  object        \n",
      " 8   title       1000036 non-null  object        \n",
      " 9   genres      1000116 non-null  object        \n",
      " 10  date        1000209 non-null  datetime64[ns]\n",
      " 11  year        1000209 non-null  int32         \n",
      " 12  month       1000209 non-null  int32         \n",
      "dtypes: datetime64[ns](1), float64(4), int32(2), int64(2), object(4)\n",
      "memory usage: 91.6+ MB\n"
     ]
    }
   ],
   "source": [
    "# get the data from the timestamp\n",
    "mlmdata['date']=pd.to_datetime(mlmdata['timestamp'],unit='s',errors='coerce')\n",
    "\n",
    "#use DatetimeIndex() to extract year and month:\n",
    "mlmdata['year']=pd.DatetimeIndex(mlmdata['date']).year\n",
    "mlmdata['month']=pd.DatetimeIndex(mlmdata['date']).month\n",
    "mlmdata.info()"
   ]
  },
  {
   "cell_type": "markdown",
   "id": "542b1e91-1266-4158-acab-f5e252fe7866",
   "metadata": {},
   "source": [
    "##### column 10 'date' now reads as a datetime object, this will allow us to manipulate it as such."
   ]
  },
  {
   "cell_type": "markdown",
   "id": "3154a0d0-6926-419e-a668-8b8bc9ef5c06",
   "metadata": {},
   "source": [
    "### 1: What unique years are featured in this dataset?"
   ]
  },
  {
   "cell_type": "code",
   "execution_count": 3,
   "id": "810e4d9b-ac1a-4f04-a6f7-888f3cc180a3",
   "metadata": {},
   "outputs": [
    {
     "name": "stdout",
     "output_type": "stream",
     "text": [
      "[2000 2001 2002 2003]\n"
     ]
    }
   ],
   "source": [
    "print(mlmdata['year'].unique())"
   ]
  },
  {
   "cell_type": "markdown",
   "id": "323b473e-e993-48c1-a1e8-2ce00b79652a",
   "metadata": {},
   "source": [
    "##### The data containes observations from the years 2000, 2001, 2002, and 2003"
   ]
  },
  {
   "cell_type": "markdown",
   "id": "2c7479d8-1cf8-4e62-bc81-4332792fd8ad",
   "metadata": {},
   "source": [
    "### 2: How many records are present for each year?"
   ]
  },
  {
   "cell_type": "code",
   "execution_count": 4,
   "id": "743074b3-958f-45b3-98fe-5a49a11634d8",
   "metadata": {},
   "outputs": [
    {
     "name": "stdout",
     "output_type": "stream",
     "text": [
      "year\n",
      "2000    904757\n",
      "2001     68058\n",
      "2002     24046\n",
      "2003      3348\n",
      "Name: count, dtype: int64\n"
     ]
    }
   ],
   "source": [
    "print(mlmdata['year'].value_counts())"
   ]
  },
  {
   "cell_type": "markdown",
   "id": "845abcf9-3a6a-4c77-8471-418108327324",
   "metadata": {},
   "source": [
    "##### The data contains: \n",
    "##### 904,757 observations from the year 2000\n",
    "##### 68,058 from 2001\n",
    "##### 24,046 from 2002\n",
    "##### 3,348 from 2003\n",
    "\n"
   ]
  },
  {
   "cell_type": "markdown",
   "id": "2f3fe6d5-f417-4030-9a97-e2ef20ed913e",
   "metadata": {},
   "source": [
    "### 3: Insert a new column called \"rating_category\" into the dataframe. The column “rating_category” will have the same value “unknown” for each row."
   ]
  },
  {
   "cell_type": "code",
   "execution_count": 5,
   "id": "9698cea4-df16-418a-b560-8dfef17644b3",
   "metadata": {},
   "outputs": [],
   "source": [
    "mlmdata['rating_category']=\"unknown\""
   ]
  },
  {
   "cell_type": "markdown",
   "id": "8128f381-349a-40f5-856d-df1abf74dbdc",
   "metadata": {},
   "source": [
    "##### Fairly straightforward, we are adding the 'rating_category' with the value 'unknown' in each observation. In the next task we will display the data to see the new added column."
   ]
  },
  {
   "cell_type": "markdown",
   "id": "c40c9fcb-004b-41a1-8677-43c5c0c2a070",
   "metadata": {},
   "source": [
    "### 4: Display the first five rows of the dataframe."
   ]
  },
  {
   "cell_type": "code",
   "execution_count": 6,
   "id": "abf7f00d-bc06-485d-9a8b-39b265a6ddf4",
   "metadata": {},
   "outputs": [
    {
     "data": {
      "text/html": [
       "<div>\n",
       "<style scoped>\n",
       "    .dataframe tbody tr th:only-of-type {\n",
       "        vertical-align: middle;\n",
       "    }\n",
       "\n",
       "    .dataframe tbody tr th {\n",
       "        vertical-align: top;\n",
       "    }\n",
       "\n",
       "    .dataframe thead th {\n",
       "        text-align: right;\n",
       "    }\n",
       "</style>\n",
       "<table border=\"1\" class=\"dataframe\">\n",
       "  <thead>\n",
       "    <tr style=\"text-align: right;\">\n",
       "      <th></th>\n",
       "      <th>user_id</th>\n",
       "      <th>movie_id</th>\n",
       "      <th>rating</th>\n",
       "      <th>timestamp</th>\n",
       "      <th>gender</th>\n",
       "      <th>age</th>\n",
       "      <th>occupation</th>\n",
       "      <th>zip</th>\n",
       "      <th>title</th>\n",
       "      <th>genres</th>\n",
       "      <th>date</th>\n",
       "      <th>year</th>\n",
       "      <th>month</th>\n",
       "      <th>rating_category</th>\n",
       "    </tr>\n",
       "  </thead>\n",
       "  <tbody>\n",
       "    <tr>\n",
       "      <th>0</th>\n",
       "      <td>1.0</td>\n",
       "      <td>1193.0</td>\n",
       "      <td>5</td>\n",
       "      <td>978300760</td>\n",
       "      <td>F</td>\n",
       "      <td>1.0</td>\n",
       "      <td>10.0</td>\n",
       "      <td>48067</td>\n",
       "      <td>One Flew Over the Cuckoo's Nest (1975)</td>\n",
       "      <td>Drama</td>\n",
       "      <td>2000-12-31 22:12:40</td>\n",
       "      <td>2000</td>\n",
       "      <td>12</td>\n",
       "      <td>unknown</td>\n",
       "    </tr>\n",
       "    <tr>\n",
       "      <th>1</th>\n",
       "      <td>2.0</td>\n",
       "      <td>1193.0</td>\n",
       "      <td>5</td>\n",
       "      <td>978298413</td>\n",
       "      <td>M</td>\n",
       "      <td>56.0</td>\n",
       "      <td>16.0</td>\n",
       "      <td>70072</td>\n",
       "      <td>One Flew Over the Cuckoo's Nest (1975)</td>\n",
       "      <td>Drama</td>\n",
       "      <td>2000-12-31 21:33:33</td>\n",
       "      <td>2000</td>\n",
       "      <td>12</td>\n",
       "      <td>unknown</td>\n",
       "    </tr>\n",
       "    <tr>\n",
       "      <th>2</th>\n",
       "      <td>12.0</td>\n",
       "      <td>1193.0</td>\n",
       "      <td>4</td>\n",
       "      <td>978220179</td>\n",
       "      <td>M</td>\n",
       "      <td>25.0</td>\n",
       "      <td>12.0</td>\n",
       "      <td>32793</td>\n",
       "      <td>One Flew Over the Cuckoo's Nest (1975)</td>\n",
       "      <td>Drama</td>\n",
       "      <td>2000-12-30 23:49:39</td>\n",
       "      <td>2000</td>\n",
       "      <td>12</td>\n",
       "      <td>unknown</td>\n",
       "    </tr>\n",
       "    <tr>\n",
       "      <th>3</th>\n",
       "      <td>15.0</td>\n",
       "      <td>1193.0</td>\n",
       "      <td>4</td>\n",
       "      <td>978199279</td>\n",
       "      <td>M</td>\n",
       "      <td>25.0</td>\n",
       "      <td>7.0</td>\n",
       "      <td>22903</td>\n",
       "      <td>One Flew Over the Cuckoo's Nest (1975)</td>\n",
       "      <td>Drama</td>\n",
       "      <td>2000-12-30 18:01:19</td>\n",
       "      <td>2000</td>\n",
       "      <td>12</td>\n",
       "      <td>unknown</td>\n",
       "    </tr>\n",
       "    <tr>\n",
       "      <th>4</th>\n",
       "      <td>17.0</td>\n",
       "      <td>1193.0</td>\n",
       "      <td>5</td>\n",
       "      <td>978158471</td>\n",
       "      <td>M</td>\n",
       "      <td>50.0</td>\n",
       "      <td>1.0</td>\n",
       "      <td>95350</td>\n",
       "      <td>One Flew Over the Cuckoo's Nest (1975)</td>\n",
       "      <td>Drama</td>\n",
       "      <td>2000-12-30 06:41:11</td>\n",
       "      <td>2000</td>\n",
       "      <td>12</td>\n",
       "      <td>unknown</td>\n",
       "    </tr>\n",
       "  </tbody>\n",
       "</table>\n",
       "</div>"
      ],
      "text/plain": [
       "   user_id  movie_id  rating  timestamp gender   age  occupation    zip  \\\n",
       "0      1.0    1193.0       5  978300760      F   1.0        10.0  48067   \n",
       "1      2.0    1193.0       5  978298413      M  56.0        16.0  70072   \n",
       "2     12.0    1193.0       4  978220179      M  25.0        12.0  32793   \n",
       "3     15.0    1193.0       4  978199279      M  25.0         7.0  22903   \n",
       "4     17.0    1193.0       5  978158471      M  50.0         1.0  95350   \n",
       "\n",
       "                                    title genres                date  year  \\\n",
       "0  One Flew Over the Cuckoo's Nest (1975)  Drama 2000-12-31 22:12:40  2000   \n",
       "1  One Flew Over the Cuckoo's Nest (1975)  Drama 2000-12-31 21:33:33  2000   \n",
       "2  One Flew Over the Cuckoo's Nest (1975)  Drama 2000-12-30 23:49:39  2000   \n",
       "3  One Flew Over the Cuckoo's Nest (1975)  Drama 2000-12-30 18:01:19  2000   \n",
       "4  One Flew Over the Cuckoo's Nest (1975)  Drama 2000-12-30 06:41:11  2000   \n",
       "\n",
       "   month rating_category  \n",
       "0     12         unknown  \n",
       "1     12         unknown  \n",
       "2     12         unknown  \n",
       "3     12         unknown  \n",
       "4     12         unknown  "
      ]
     },
     "execution_count": 6,
     "metadata": {},
     "output_type": "execute_result"
    }
   ],
   "source": [
    "mlmdata.head()"
   ]
  },
  {
   "cell_type": "markdown",
   "id": "d89b2abf-345f-4a1c-b524-f81bfe249762",
   "metadata": {},
   "source": [
    "##### The .head() function will return the first 5 observations (unless explicitely prompted for more than 5). We see the index starting at 0 and ends at 4. We can also note the added column 'rating_category' now contains the 'unknown' values in the first five observations."
   ]
  },
  {
   "cell_type": "markdown",
   "id": "be0f454c-1d4e-4b80-bf33-a1ce513834fb",
   "metadata": {},
   "source": [
    "### 5:Assume that we would like to examine how movie ratings change from first observation (row 1) to tenth observation (row 10). Draw a line plot for the movie ratings using the first ten rows. Do you observe any pattern in the data? "
   ]
  },
  {
   "cell_type": "code",
   "execution_count": 15,
   "id": "21e42fbd-013f-4d9b-b74a-385c03f4c8e1",
   "metadata": {},
   "outputs": [
    {
     "data": {
      "text/html": [
       "<div>\n",
       "<style scoped>\n",
       "    .dataframe tbody tr th:only-of-type {\n",
       "        vertical-align: middle;\n",
       "    }\n",
       "\n",
       "    .dataframe tbody tr th {\n",
       "        vertical-align: top;\n",
       "    }\n",
       "\n",
       "    .dataframe thead th {\n",
       "        text-align: right;\n",
       "    }\n",
       "</style>\n",
       "<table border=\"1\" class=\"dataframe\">\n",
       "  <thead>\n",
       "    <tr style=\"text-align: right;\">\n",
       "      <th></th>\n",
       "      <th>date</th>\n",
       "      <th>rating</th>\n",
       "      <th>title</th>\n",
       "    </tr>\n",
       "  </thead>\n",
       "  <tbody>\n",
       "    <tr>\n",
       "      <th>0</th>\n",
       "      <td>2000-12-31 22:12:40</td>\n",
       "      <td>5</td>\n",
       "      <td>One Flew Over the Cuckoo's Nest (1975)</td>\n",
       "    </tr>\n",
       "    <tr>\n",
       "      <th>1</th>\n",
       "      <td>2000-12-31 21:33:33</td>\n",
       "      <td>5</td>\n",
       "      <td>One Flew Over the Cuckoo's Nest (1975)</td>\n",
       "    </tr>\n",
       "    <tr>\n",
       "      <th>2</th>\n",
       "      <td>2000-12-30 23:49:39</td>\n",
       "      <td>4</td>\n",
       "      <td>One Flew Over the Cuckoo's Nest (1975)</td>\n",
       "    </tr>\n",
       "    <tr>\n",
       "      <th>3</th>\n",
       "      <td>2000-12-30 18:01:19</td>\n",
       "      <td>4</td>\n",
       "      <td>One Flew Over the Cuckoo's Nest (1975)</td>\n",
       "    </tr>\n",
       "    <tr>\n",
       "      <th>4</th>\n",
       "      <td>2000-12-30 06:41:11</td>\n",
       "      <td>5</td>\n",
       "      <td>One Flew Over the Cuckoo's Nest (1975)</td>\n",
       "    </tr>\n",
       "    <tr>\n",
       "      <th>5</th>\n",
       "      <td>2000-12-30 06:02:48</td>\n",
       "      <td>4</td>\n",
       "      <td>One Flew Over the Cuckoo's Nest (1975)</td>\n",
       "    </tr>\n",
       "    <tr>\n",
       "      <th>6</th>\n",
       "      <td>2001-02-21 04:48:56</td>\n",
       "      <td>5</td>\n",
       "      <td>One Flew Over the Cuckoo's Nest (1975)</td>\n",
       "    </tr>\n",
       "    <tr>\n",
       "      <th>7</th>\n",
       "      <td>2000-12-30 00:38:29</td>\n",
       "      <td>5</td>\n",
       "      <td>One Flew Over the Cuckoo's Nest (1975)</td>\n",
       "    </tr>\n",
       "    <tr>\n",
       "      <th>8</th>\n",
       "      <td>2000-12-29 21:26:34</td>\n",
       "      <td>3</td>\n",
       "      <td>One Flew Over the Cuckoo's Nest (1975)</td>\n",
       "    </tr>\n",
       "    <tr>\n",
       "      <th>9</th>\n",
       "      <td>2001-01-03 21:36:05</td>\n",
       "      <td>5</td>\n",
       "      <td>One Flew Over the Cuckoo's Nest (1975)</td>\n",
       "    </tr>\n",
       "  </tbody>\n",
       "</table>\n",
       "</div>"
      ],
      "text/plain": [
       "                 date  rating                                   title\n",
       "0 2000-12-31 22:12:40       5  One Flew Over the Cuckoo's Nest (1975)\n",
       "1 2000-12-31 21:33:33       5  One Flew Over the Cuckoo's Nest (1975)\n",
       "2 2000-12-30 23:49:39       4  One Flew Over the Cuckoo's Nest (1975)\n",
       "3 2000-12-30 18:01:19       4  One Flew Over the Cuckoo's Nest (1975)\n",
       "4 2000-12-30 06:41:11       5  One Flew Over the Cuckoo's Nest (1975)\n",
       "5 2000-12-30 06:02:48       4  One Flew Over the Cuckoo's Nest (1975)\n",
       "6 2001-02-21 04:48:56       5  One Flew Over the Cuckoo's Nest (1975)\n",
       "7 2000-12-30 00:38:29       5  One Flew Over the Cuckoo's Nest (1975)\n",
       "8 2000-12-29 21:26:34       3  One Flew Over the Cuckoo's Nest (1975)\n",
       "9 2001-01-03 21:36:05       5  One Flew Over the Cuckoo's Nest (1975)"
      ]
     },
     "execution_count": 15,
     "metadata": {},
     "output_type": "execute_result"
    }
   ],
   "source": [
    "import matplotlib.pyplot as plt\n",
    "\n",
    "#creating a subset of the data for plotting\n",
    "ratings = mlmdata.loc[:10,('date','rating', 'title')]\n",
    "ratings.head(10)"
   ]
  },
  {
   "cell_type": "code",
   "execution_count": 14,
   "id": "35ef60a6-038b-40db-865f-9573b6074c92",
   "metadata": {
    "scrolled": true
   },
   "outputs": [
    {
     "data": {
      "image/png": "[encoded data removed]",
      "text/plain": [
       "<Figure size 1500x300 with 1 Axes>"
      ]
     },
     "metadata": {},
     "output_type": "display_data"
    }
   ],
   "source": [
    "plt.figure(figsize=(15, 3))\n",
    "plt.plot(ratings['rating'])\n",
    "plt.title('Ratings Over 10 Observations')\n",
    "plt.xlabel('Date')\n",
    "plt.ylabel('Observation')\n",
    "plt.show()"
   ]
  },
  {
   "cell_type": "markdown",
   "id": "a9b4b359-2c12-4ff6-94d4-3e8fe7bdb981",
   "metadata": {},
   "source": [
    "#### Ratings for the first 10 observations are for the same movie \"One Flew over the Cuckoo's Nest\". Ratings Vary, but trend high with multiple observations at the maximum of 5 and only one at the low of 3."
   ]
  },
  {
   "cell_type": "markdown",
   "id": "f98ccf0c-a42d-4254-9905-795b58d3cb19",
   "metadata": {},
   "source": [
    "### 6: Assume that we would like to examine how movie ratings change across different age groups for the first one hundred observation. Considering only the first one hundred rows, draw a scatter plot where the x axis is rating, and y axis is age. Do you observe any pattern in the data? "
   ]
  },
  {
   "cell_type": "code",
   "execution_count": 16,
   "id": "b23a6537-62f5-4f64-b9bf-e5a56b03cfe5",
   "metadata": {},
   "outputs": [],
   "source": [
    "#creating a subset of the data for plotting\n",
    "age_groups = mlmdata.loc[:100,('rating','age')]"
   ]
  },
  {
   "cell_type": "code",
   "execution_count": 19,
   "id": "ad8d1166-742b-4eed-9924-0dc7b4af040a",
   "metadata": {},
   "outputs": [
    {
     "data": {
      "image/png": "[encoded data removed]",
      "text/plain": [
       "<Figure size 800x500 with 1 Axes>"
      ]
     },
     "metadata": {},
     "output_type": "display_data"
    }
   ],
   "source": [
    "plt.figure(figsize=(8, 5))\n",
    "plt.scatter(age_groups[\"rating\"], age_groups[\"age\"], c=\"blue\", marker=\"o\")\n",
    "\n",
    "plt.title(\"Ratings by Age\")\n",
    "plt.xlabel(\"Rating\")\n",
    "plt.ylabel(\"Age\")\n",
    "plt.grid(False)\n",
    "plt.show()"
   ]
  },
  {
   "cell_type": "markdown",
   "id": "66db5982-4db3-4c34-b5a0-b9454bb054e0",
   "metadata": {},
   "source": [
    "#### The majority of ratings are gathered from viewers aged 18 - 55. There also appear to be a few outliers, as somehow there are viewers under 5 who gave ratings. Ratings are mostly evenly distributed between 3-5"
   ]
  },
  {
   "cell_type": "code",
   "execution_count": null,
   "id": "008f0cd1-5e6a-456b-9703-24afd43249dd",
   "metadata": {},
   "outputs": [],
   "source": []
  }
 ],
 "metadata": {
  "kernelspec": {
   "display_name": "Python [conda env:base] *",
   "language": "python",
   "name": "conda-base-py"
  },
  "language_info": {
   "codemirror_mode": {
    "name": "ipython",
    "version": 3
   },
   "file_extension": ".py",
   "mimetype": "text/x-python",
   "name": "python",
   "nbconvert_exporter": "python",
   "pygments_lexer": "ipython3",
   "version": "3.12.7"
  }
 },
 "nbformat": 4,
 "nbformat_minor": 5
}
